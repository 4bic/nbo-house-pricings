{
 "cells": [
  {
   "cell_type": "code",
   "execution_count": 1,
   "metadata": {
    "collapsed": true
   },
   "outputs": [],
   "source": [
    "import pandas as pd\n",
    "import matplotlib.pyplot as plt\n",
    "import seaborn as sns \n",
    "\n",
    "\n",
    "%matplotlib inline"
   ]
  },
  {
   "cell_type": "code",
   "execution_count": 16,
   "metadata": {},
   "outputs": [
    {
     "data": {
      "text/html": [
       "<div>\n",
       "<style>\n",
       "    .dataframe thead tr:only-child th {\n",
       "        text-align: right;\n",
       "    }\n",
       "\n",
       "    .dataframe thead th {\n",
       "        text-align: left;\n",
       "    }\n",
       "\n",
       "    .dataframe tbody tr th {\n",
       "        vertical-align: top;\n",
       "    }\n",
       "</style>\n",
       "<table border=\"1\" class=\"dataframe\">\n",
       "  <thead>\n",
       "    <tr style=\"text-align: right;\">\n",
       "      <th></th>\n",
       "      <th>desc</th>\n",
       "      <th>location</th>\n",
       "      <th>size</th>\n",
       "      <th>value</th>\n",
       "    </tr>\n",
       "    <tr>\n",
       "      <th>index</th>\n",
       "      <th></th>\n",
       "      <th></th>\n",
       "      <th></th>\n",
       "      <th></th>\n",
       "    </tr>\n",
       "  </thead>\n",
       "  <tbody>\n",
       "    <tr>\n",
       "      <th>1</th>\n",
       "      <td>Ambassadorial Palace in Spring Valley</td>\n",
       "      <td>peponi road, Spring Valley, Nairobi, Nairobi</td>\n",
       "      <td>11.0</td>\n",
       "      <td>280000000.0</td>\n",
       "    </tr>\n",
       "    <tr>\n",
       "      <th>2</th>\n",
       "      <td>Spring Valley Ambassadorial Palace</td>\n",
       "      <td>Spring Valley, Nairobi, Nairobi</td>\n",
       "      <td>11.0</td>\n",
       "      <td>290000000.0</td>\n",
       "    </tr>\n",
       "    <tr>\n",
       "      <th>3</th>\n",
       "      <td>10 Bedroom House in Karen- 3KE1375839</td>\n",
       "      <td>Hardy, Karen, Nairobi, Nairobi</td>\n",
       "      <td>10.0</td>\n",
       "      <td>150000000.0</td>\n",
       "    </tr>\n",
       "    <tr>\n",
       "      <th>4</th>\n",
       "      <td>10 Bedroom House For Sale In Karen (Kenya) - 3...</td>\n",
       "      <td>Karen, Nairobi, Nairobi</td>\n",
       "      <td>10.0</td>\n",
       "      <td>150000000.0</td>\n",
       "    </tr>\n",
       "    <tr>\n",
       "      <th>5</th>\n",
       "      <td>10 Bedroom House for sale in Spring Valley</td>\n",
       "      <td>Spring Valley, Spring Valley, Nairobi, Nairobi</td>\n",
       "      <td>10.0</td>\n",
       "      <td>315000000.0</td>\n",
       "    </tr>\n",
       "  </tbody>\n",
       "</table>\n",
       "</div>"
      ],
      "text/plain": [
       "                                                    desc  \\\n",
       "index                                                      \n",
       "1                  Ambassadorial Palace in Spring Valley   \n",
       "2                     Spring Valley Ambassadorial Palace   \n",
       "3                  10 Bedroom House in Karen- 3KE1375839   \n",
       "4      10 Bedroom House For Sale In Karen (Kenya) - 3...   \n",
       "5             10 Bedroom House for sale in Spring Valley   \n",
       "\n",
       "                                             location  size        value  \n",
       "index                                                                     \n",
       "1        peponi road, Spring Valley, Nairobi, Nairobi  11.0  280000000.0  \n",
       "2                     Spring Valley, Nairobi, Nairobi  11.0  290000000.0  \n",
       "3                      Hardy, Karen, Nairobi, Nairobi  10.0  150000000.0  \n",
       "4                             Karen, Nairobi, Nairobi  10.0  150000000.0  \n",
       "5      Spring Valley, Spring Valley, Nairobi, Nairobi  10.0  315000000.0  "
      ]
     },
     "execution_count": 16,
     "metadata": {},
     "output_type": "execute_result"
    }
   ],
   "source": [
    "df = pd.read_csv('property_listing',index_col='index')\n",
    "\n",
    "df.head()"
   ]
  },
  {
   "cell_type": "code",
   "execution_count": 31,
   "metadata": {},
   "outputs": [],
   "source": [
    "df_minusNBO = df['location'].str.replace('Nairobi','')\n",
    "# df_minusNBO.value_counts()"
   ]
  },
  {
   "cell_type": "code",
   "execution_count": 34,
   "metadata": {},
   "outputs": [],
   "source": [
    "df.to_csv('prop_list.csv')"
   ]
  },
  {
   "cell_type": "code",
   "execution_count": null,
   "metadata": {
    "collapsed": true
   },
   "outputs": [],
   "source": []
  }
 ],
 "metadata": {
  "kernelspec": {
   "display_name": "Python 3",
   "language": "python",
   "name": "python3"
  },
  "language_info": {
   "codemirror_mode": {
    "name": "ipython",
    "version": 3
   },
   "file_extension": ".py",
   "mimetype": "text/x-python",
   "name": "python",
   "nbconvert_exporter": "python",
   "pygments_lexer": "ipython3",
   "version": "3.6.3"
  }
 },
 "nbformat": 4,
 "nbformat_minor": 2
}
