{
 "cells": [
  {
   "cell_type": "markdown",
   "metadata": {},
   "source": [
    "#  Property_3 listings "
   ]
  },
  {
   "cell_type": "code",
   "execution_count": 1,
   "metadata": {
    "collapsed": true
   },
   "outputs": [],
   "source": [
    "%matplotlib inline\n",
    "import requests\n",
    "from bs4 import BeautifulSoup\n",
    "import pandas as pd"
   ]
  },
  {
   "cell_type": "markdown",
   "metadata": {},
   "source": [
    "#### Access houses for sale in NBO webpage "
   ]
  },
  {
   "cell_type": "code",
   "execution_count": 2,
   "metadata": {},
   "outputs": [
    {
     "data": {
      "text/plain": [
       "20"
      ]
     },
     "execution_count": 2,
     "metadata": {},
     "output_type": "execute_result"
    }
   ],
   "source": [
    "r = requests.get(\"https://www.buyrentkenya.com/houses-for-sale\")\n",
    "c = r.content\n",
    "soup = BeautifulSoup(c, \"html.parser\")\n",
    "# check source code of loaded page\n",
    "# print(soup.prettify())\n",
    "\n",
    "# # extract division\n",
    "all = soup.find_all(\"div\",{\"class\":\"result-card\"})\n",
    "len(all)"
   ]
  },
  {
   "cell_type": "markdown",
   "metadata": {},
   "source": [
    "#### check element "
   ]
  },
  {
   "cell_type": "code",
   "execution_count": 3,
   "metadata": {},
   "outputs": [
    {
     "data": {
      "text/plain": [
       "'KES 70,000,000'"
      ]
     },
     "execution_count": 3,
     "metadata": {},
     "output_type": "execute_result"
    }
   ],
   "source": [
    "value = all[0].find(\"div\",{\"class\":\"listing-price\"}).text.strip()\n",
    "\n",
    "value\n"
   ]
  },
  {
   "cell_type": "code",
   "execution_count": 4,
   "metadata": {
    "scrolled": false
   },
   "outputs": [
    {
     "data": {
      "text/plain": [
       "'A 5 bedroom, all en-suite country home located in one of the charming and convenient leafy suburbs in Nairobi and within Muhugu Park and Gardens, a place to call home with peace and quiet, tucked away in the lush neighborhood full of trees and the flowing rivers.\\nMuhugu Gardens comprises of ten, 5 bedroom beautiful homes and a club house on 5 acres while Muhugu Park shall enjoy twenty, 5 bedroom country homes and a club house on 10 acres. Some of the shared facilities include a gate house, ICT provision, a club house that boasts of an entrance lobby with reception, a lounge and veranda with a juice bar and a fireplace.\\nThe homes will boast of a large kitchen with cooking island and pantry, a kitchen yard, a laundry area, a separate cloakroom, a veranda with a BBQ stand, a spacious family room and high quality internal and external finishes.\\nContact/message for viewing plus more information on.this home.Thank you.'"
      ]
     },
     "execution_count": 4,
     "metadata": {},
     "output_type": "execute_result"
    }
   ],
   "source": [
    "desc = all[0].find(\"div\",{\"class\":\"listing-description\"}).text.strip()\n",
    "desc"
   ]
  },
  {
   "cell_type": "code",
   "execution_count": 5,
   "metadata": {},
   "outputs": [
    {
     "data": {
      "text/plain": [
       "'Karen, Langata'"
      ]
     },
     "execution_count": 5,
     "metadata": {},
     "output_type": "execute_result"
    }
   ],
   "source": [
    "location = all[0].find('div',{'class':'full-address'}).text.strip()\n",
    "location"
   ]
  },
  {
   "cell_type": "code",
   "execution_count": 6,
   "metadata": {},
   "outputs": [
    {
     "data": {
      "text/plain": [
       "'5 Bedroom Townhouse'"
      ]
     },
     "execution_count": 6,
     "metadata": {},
     "output_type": "execute_result"
    }
   ],
   "source": [
    "size = all[0].find('span',{'class':'teaser'}).text.strip()\n",
    "size"
   ]
  },
  {
   "cell_type": "markdown",
   "metadata": {},
   "source": [
    "## Data Collection \n",
    "\n",
    "        - Crawl web pages \n",
    "        - Extract selected elements \n",
    "        - Colect dict and store in a csv"
   ]
  },
  {
   "cell_type": "code",
   "execution_count": 8,
   "metadata": {
    "collapsed": true
   },
   "outputs": [],
   "source": [
    "base_url = \"https://www.buyrentkenya.com/houses-for-sale?page=\"\n",
    "data = []\n",
    "#   crawl though available pages to extract page no. links\n",
    "for page in range(1,27,1): #26 is the last page\n",
    "    prop_page = base_url+str(page) #+str(\"&size=30\")\n",
    "    r = requests.get(prop_page)\n",
    "    c = r.content\n",
    "    soup = BeautifulSoup(c, \"html.parser\")\n",
    "    all = soup.find_all(\"div\",{\"class\":\"result-card\"})\n",
    "    # collect price, detail and size from each page\n",
    "    for item in all:\n",
    "        d={}\n",
    "    #  property value\n",
    "        d[\"value\"] = item.find(\"div\",{\"class\":\"listing-price\"}).text.strip()\n",
    "    #   property description \n",
    "        d[\"desc\"] = item.find(\"div\",{\"class\":\"listing-description\"}).text.strip()\n",
    "    #   property size / bedroom capacity\n",
    "        try:\n",
    "             d[\"size\"] = item.find('span',{'class':'teaser'}).text.strip()\n",
    "        except:\n",
    "            d[\"size\"] = None\n",
    "    #   property address\n",
    "        d[\"location\"] = item.find('div',{'class':'full-address'}).text.strip()\n",
    "    \n",
    "    #   collect data in a list\n",
    "        data.append(d)\n",
    "        \n",
    "    #   store data in a dataframe\n",
    "        df3 = pd.DataFrame(data)\n",
    "    #   save to csv\n",
    "        df3.to_csv(\"scrapped_data/prop_3.csv\")"
   ]
  },
  {
   "cell_type": "code",
   "execution_count": null,
   "metadata": {
    "collapsed": true
   },
   "outputs": [],
   "source": [
    "df3.head()"
   ]
  },
  {
   "cell_type": "code",
   "execution_count": null,
   "metadata": {
    "collapsed": true
   },
   "outputs": [],
   "source": [
    "len(df3)"
   ]
  },
  {
   "cell_type": "markdown",
   "metadata": {
    "collapsed": true
   },
   "source": [
    "## EDA"
   ]
  },
  {
   "cell_type": "code",
   "execution_count": null,
   "metadata": {
    "collapsed": true
   },
   "outputs": [],
   "source": [
    "base_url = \"https://www.buyrentkenya.com/houses-for-sale?page=\"\n",
    "data = []\n",
    "#   crawl though available pages to extract page no. links\n",
    "for page in range(1,27,1): #26 is the last page\n",
    "    prop_page = base_url+str(page) #+str(\"&size=30\")\n",
    "    print(prop_page)"
   ]
  },
  {
   "cell_type": "markdown",
   "metadata": {
    "collapsed": true
   },
   "source": [
    "## Load Scrapped Data"
   ]
  },
  {
   "cell_type": "code",
   "execution_count": 2,
   "metadata": {},
   "outputs": [
    {
     "data": {
      "text/html": [
       "<div>\n",
       "<style>\n",
       "    .dataframe thead tr:only-child th {\n",
       "        text-align: right;\n",
       "    }\n",
       "\n",
       "    .dataframe thead th {\n",
       "        text-align: left;\n",
       "    }\n",
       "\n",
       "    .dataframe tbody tr th {\n",
       "        vertical-align: top;\n",
       "    }\n",
       "</style>\n",
       "<table border=\"1\" class=\"dataframe\">\n",
       "  <thead>\n",
       "    <tr style=\"text-align: right;\">\n",
       "      <th></th>\n",
       "      <th>desc</th>\n",
       "      <th>location</th>\n",
       "      <th>size</th>\n",
       "      <th>value</th>\n",
       "    </tr>\n",
       "  </thead>\n",
       "  <tbody>\n",
       "    <tr>\n",
       "      <th>0</th>\n",
       "      <td>A 5 bedroom, all en-suite country home located...</td>\n",
       "      <td>Karen, Langata</td>\n",
       "      <td>5 Bedroom Townhouse</td>\n",
       "      <td>KES 70,000,000</td>\n",
       "    </tr>\n",
       "    <tr>\n",
       "      <th>1</th>\n",
       "      <td>3 Bedroom Maisonette For Sale-Golf Course Esta...</td>\n",
       "      <td>Golf Course Estate, Ngumo Estate, Langata</td>\n",
       "      <td>3 Bedroom House</td>\n",
       "      <td>KES 19,000,000</td>\n",
       "    </tr>\n",
       "    <tr>\n",
       "      <th>2</th>\n",
       "      <td>This beautiful 2 storey house consists of 7 sp...</td>\n",
       "      <td>Runda, Kiambu</td>\n",
       "      <td>7 Bedroom Townhouse</td>\n",
       "      <td>KES 120,000,000</td>\n",
       "    </tr>\n",
       "  </tbody>\n",
       "</table>\n",
       "</div>"
      ],
      "text/plain": [
       "                                                desc  \\\n",
       "0  A 5 bedroom, all en-suite country home located...   \n",
       "1  3 Bedroom Maisonette For Sale-Golf Course Esta...   \n",
       "2  This beautiful 2 storey house consists of 7 sp...   \n",
       "\n",
       "                                    location                 size  \\\n",
       "0                             Karen, Langata  5 Bedroom Townhouse   \n",
       "1  Golf Course Estate, Ngumo Estate, Langata      3 Bedroom House   \n",
       "2                              Runda, Kiambu  7 Bedroom Townhouse   \n",
       "\n",
       "             value  \n",
       "0   KES 70,000,000  \n",
       "1   KES 19,000,000  \n",
       "2  KES 120,000,000  "
      ]
     },
     "execution_count": 2,
     "metadata": {},
     "output_type": "execute_result"
    }
   ],
   "source": [
    "df2 = pd.read_csv('scrapped_data/prop_2.csv',\n",
    "                    usecols=['desc', 'location', 'size', 'value'])\n",
    "df2.head(3)"
   ]
  },
  {
   "cell_type": "markdown",
   "metadata": {},
   "source": [
    "### Data cleanup\n",
    "\n"
   ]
  },
  {
   "cell_type": "code",
   "execution_count": 3,
   "metadata": {},
   "outputs": [
    {
     "data": {
      "text/html": [
       "<div>\n",
       "<style>\n",
       "    .dataframe thead tr:only-child th {\n",
       "        text-align: right;\n",
       "    }\n",
       "\n",
       "    .dataframe thead th {\n",
       "        text-align: left;\n",
       "    }\n",
       "\n",
       "    .dataframe tbody tr th {\n",
       "        vertical-align: top;\n",
       "    }\n",
       "</style>\n",
       "<table border=\"1\" class=\"dataframe\">\n",
       "  <thead>\n",
       "    <tr style=\"text-align: right;\">\n",
       "      <th></th>\n",
       "      <th>desc</th>\n",
       "      <th>location</th>\n",
       "      <th>size</th>\n",
       "      <th>value</th>\n",
       "    </tr>\n",
       "  </thead>\n",
       "  <tbody>\n",
       "    <tr>\n",
       "      <th>0</th>\n",
       "      <td>A 5 bedroom, all en-suite country home located...</td>\n",
       "      <td>Karen, Langata</td>\n",
       "      <td>5</td>\n",
       "      <td>70000000</td>\n",
       "    </tr>\n",
       "    <tr>\n",
       "      <th>1</th>\n",
       "      <td>3 Bedroom Maisonette For Sale-Golf Course Esta...</td>\n",
       "      <td>Golf Course Estate, Ngumo Estate, Langata</td>\n",
       "      <td>3</td>\n",
       "      <td>19000000</td>\n",
       "    </tr>\n",
       "    <tr>\n",
       "      <th>2</th>\n",
       "      <td>This beautiful 2 storey house consists of 7 sp...</td>\n",
       "      <td>Runda, Kiambu</td>\n",
       "      <td>7</td>\n",
       "      <td>120000000</td>\n",
       "    </tr>\n",
       "  </tbody>\n",
       "</table>\n",
       "</div>"
      ],
      "text/plain": [
       "                                                desc  \\\n",
       "0  A 5 bedroom, all en-suite country home located...   \n",
       "1  3 Bedroom Maisonette For Sale-Golf Course Esta...   \n",
       "2  This beautiful 2 storey house consists of 7 sp...   \n",
       "\n",
       "                                    location size       value  \n",
       "0                             Karen, Langata    5    70000000  \n",
       "1  Golf Course Estate, Ngumo Estate, Langata    3    19000000  \n",
       "2                              Runda, Kiambu    7   120000000  "
      ]
     },
     "execution_count": 3,
     "metadata": {},
     "output_type": "execute_result"
    }
   ],
   "source": [
    "# Save value as Numeric in Ksh\n",
    "df3['value'] = df3['value'].str.replace(\",|KES\",\"\")\n",
    "# Size to no of Bedrooms\n",
    "df3['size'] = prop_2['size'].str.split(' ').str[0]\n",
    "\n",
    "prop_2.head(3)"
   ]
  },
  {
   "cell_type": "code",
   "execution_count": 4,
   "metadata": {
    "collapsed": true
   },
   "outputs": [],
   "source": []
  },
  {
   "cell_type": "code",
   "execution_count": null,
   "metadata": {
    "collapsed": true
   },
   "outputs": [],
   "source": []
  }
 ],
 "metadata": {
  "kernelspec": {
   "display_name": "Python 3",
   "language": "python",
   "name": "python3"
  },
  "language_info": {
   "codemirror_mode": {
    "name": "ipython",
    "version": 3
   },
   "file_extension": ".py",
   "mimetype": "text/x-python",
   "name": "python",
   "nbconvert_exporter": "python",
   "pygments_lexer": "ipython3",
   "version": "3.6.3"
  }
 },
 "nbformat": 4,
 "nbformat_minor": 2
}
