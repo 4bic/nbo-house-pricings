{
 "cells": [
  {
   "cell_type": "markdown",
   "metadata": {},
   "source": [
    "#  BuyRent Kenya listings "
   ]
  },
  {
   "cell_type": "code",
   "execution_count": 1,
   "metadata": {
    "collapsed": true
   },
   "outputs": [],
   "source": [
    "%matplotlib inline\n",
    "import requests\n",
    "from bs4 import BeautifulSoup\n",
    "import pandas as pd"
   ]
  },
  {
   "cell_type": "markdown",
   "metadata": {},
   "source": [
    "#### Access For sale in NBO webpage "
   ]
  },
  {
   "cell_type": "code",
   "execution_count": 5,
   "metadata": {},
   "outputs": [
    {
     "data": {
      "text/plain": [
       "21"
      ]
     },
     "execution_count": 5,
     "metadata": {},
     "output_type": "execute_result"
    }
   ],
   "source": [
    "r = requests.get(\"https://www.property24.co.ke/houses-for-sale-in-nairobi-c1890\")\n",
    "c = r.content\n",
    "soup = BeautifulSoup(c, \"html.parser\")\n",
    "# check source code of loaded page\n",
    "# print(soup.prettify())\n",
    "\n",
    "# # extract division\n",
    "all = soup.find_all(\"div\",{\"class\":\"sc_listingTile\"})\n",
    "len(all)"
   ]
  },
  {
   "cell_type": "markdown",
   "metadata": {},
   "source": [
    "#### check element "
   ]
  },
  {
   "cell_type": "code",
   "execution_count": 6,
   "metadata": {},
   "outputs": [
    {
     "data": {
      "text/plain": [
       "'KSh 78\\xa0000\\xa0000'"
      ]
     },
     "execution_count": 6,
     "metadata": {},
     "output_type": "execute_result"
    }
   ],
   "source": [
    "price = all[0].find(\"div\",{\"class\":\"sc_listingTilePrice\"}).text.strip()\n",
    "\n",
    "price\n"
   ]
  },
  {
   "cell_type": "code",
   "execution_count": 7,
   "metadata": {
    "scrolled": false
   },
   "outputs": [
    {
     "data": {
      "text/plain": [
       "'Prime home for sale This is a spectacular New home located in karen windyridge. FEATURES INCLUDE, Ground Floor 1. Lounge with a...'"
      ]
     },
     "execution_count": 7,
     "metadata": {},
     "output_type": "execute_result"
    }
   ],
   "source": [
    "desc = all[0].find(\"div\",{\"class\":\"sc_listingTileTeaser\"}).text.strip()\n",
    "desc"
   ]
  },
  {
   "cell_type": "code",
   "execution_count": 8,
   "metadata": {},
   "outputs": [
    {
     "data": {
      "text/plain": [
       "'\\r\\n                Windy ridge, Karen, Nairobi\\r\\n            '"
      ]
     },
     "execution_count": 8,
     "metadata": {},
     "output_type": "execute_result"
    }
   ],
   "source": [
    "location = all[0].find('div',{'class':'sc_listingTileAddress'}).text\n",
    "location"
   ]
  },
  {
   "cell_type": "code",
   "execution_count": 9,
   "metadata": {},
   "outputs": [
    {
     "data": {
      "text/plain": [
       "'\\r\\n                4 Bedroom House for sale in Karen\\r\\n            '"
      ]
     },
     "execution_count": 9,
     "metadata": {},
     "output_type": "execute_result"
    }
   ],
   "source": [
    "size = all[0].find('div',{'class':'sc_listingTileArea'}).text\n",
    "size"
   ]
  },
  {
   "cell_type": "markdown",
   "metadata": {},
   "source": [
    "## Data Collection \n",
    "\n",
    "        - Crawl web pages \n",
    "        - Extract selected elements \n",
    "        - Colect dict and store in a csv"
   ]
  },
  {
   "cell_type": "code",
   "execution_count": 10,
   "metadata": {
    "collapsed": true
   },
   "outputs": [],
   "source": [
    "base_url = \"https://www.property24.co.ke/houses-for-sale-in-nairobi-c1890?Page=\"\n",
    "data = []\n",
    "#   crawl though available pages to extract page no. links\n",
    "for page in range(1,67,1): #66 is the last page\n",
    "    prop_page = base_url+str(page) #+str(\"&size=30\")\n",
    "    r = requests.get(prop_page)\n",
    "    c = r.content\n",
    "    soup = BeautifulSoup(c, \"html.parser\")\n",
    "    all = soup.find_all(\"div\",{\"class\":\"sc_listingTile\"})\n",
    "    # collect price, detail and size from each page\n",
    "    for item in all:\n",
    "        d={}\n",
    "    #  property value\n",
    "        d[\"value\"] = item.find(\"div\",{\"class\":\"sc_listingTilePrice\"}).text.strip()\n",
    "    #   property description \n",
    "        d[\"desc\"] = item.find(\"div\",{\"class\":\"sc_listingTileTeaser\"}).text.strip()\n",
    "    #   property size / bedroom capacity\n",
    "        try:\n",
    "             d[\"size\"] = item.find('div',{'class':'sc_listingTileArea'}).text.strip()\n",
    "        except:\n",
    "            d[\"size\"] = None\n",
    "    #   property address\n",
    "        d[\"location\"] = item.find('div',{'class':'sc_listingTileAddress'}).text.strip()\n",
    "    \n",
    "    #   collect data in a list\n",
    "        data.append(d)\n",
    "        \n",
    "    #   store data in a dataframe\n",
    "        df = pd.DataFrame(data)\n",
    "    #   save to csv\n",
    "#         df.to_csv(\"p24_listing.csv\")"
   ]
  },
  {
   "cell_type": "code",
   "execution_count": 11,
   "metadata": {},
   "outputs": [
    {
     "data": {
      "text/html": [
       "<div>\n",
       "<style>\n",
       "    .dataframe thead tr:only-child th {\n",
       "        text-align: right;\n",
       "    }\n",
       "\n",
       "    .dataframe thead th {\n",
       "        text-align: left;\n",
       "    }\n",
       "\n",
       "    .dataframe tbody tr th {\n",
       "        vertical-align: top;\n",
       "    }\n",
       "</style>\n",
       "<table border=\"1\" class=\"dataframe\">\n",
       "  <thead>\n",
       "    <tr style=\"text-align: right;\">\n",
       "      <th></th>\n",
       "      <th>desc</th>\n",
       "      <th>location</th>\n",
       "      <th>size</th>\n",
       "      <th>value</th>\n",
       "    </tr>\n",
       "  </thead>\n",
       "  <tbody>\n",
       "    <tr>\n",
       "      <th>0</th>\n",
       "      <td>Prime home for sale This is a spectacular New ...</td>\n",
       "      <td>Windy ridge, Karen, Nairobi</td>\n",
       "      <td>4 Bedroom House for sale in Karen</td>\n",
       "      <td>KSh 78 000 000</td>\n",
       "    </tr>\n",
       "    <tr>\n",
       "      <th>1</th>\n",
       "      <td>A beautiful 4 bedroom house in Old Runda is on...</td>\n",
       "      <td>Flame Tree Drive, Runda, Runda, Nairobi</td>\n",
       "      <td>4 Bedroom House for sale in Runda</td>\n",
       "      <td>KSh 120 000 000</td>\n",
       "    </tr>\n",
       "    <tr>\n",
       "      <th>2</th>\n",
       "      <td>This large 4 bedroom house plus SQ is located ...</td>\n",
       "      <td>Kerarapon, Nairobi</td>\n",
       "      <td>4 Bedroom House for sale in Kerarapon</td>\n",
       "      <td>KSh 35 000 000</td>\n",
       "    </tr>\n",
       "    <tr>\n",
       "      <th>3</th>\n",
       "      <td>This is a beautiful and well maintained 4 bedr...</td>\n",
       "      <td>Close to UN and Rosslyn Academy., Gigiri, Nairobi</td>\n",
       "      <td>4 Bedroom House for sale in Gigiri</td>\n",
       "      <td>KSh 80 000 000</td>\n",
       "    </tr>\n",
       "    <tr>\n",
       "      <th>4</th>\n",
       "      <td>Classic home! Spacious lounge with a fire plac...</td>\n",
       "      <td>Karen, Karen, Nairobi</td>\n",
       "      <td>5 Bedroom House for sale in Karen</td>\n",
       "      <td>KSh 80 000 000</td>\n",
       "    </tr>\n",
       "  </tbody>\n",
       "</table>\n",
       "</div>"
      ],
      "text/plain": [
       "                                                desc  \\\n",
       "0  Prime home for sale This is a spectacular New ...   \n",
       "1  A beautiful 4 bedroom house in Old Runda is on...   \n",
       "2  This large 4 bedroom house plus SQ is located ...   \n",
       "3  This is a beautiful and well maintained 4 bedr...   \n",
       "4  Classic home! Spacious lounge with a fire plac...   \n",
       "\n",
       "                                            location  \\\n",
       "0                        Windy ridge, Karen, Nairobi   \n",
       "1            Flame Tree Drive, Runda, Runda, Nairobi   \n",
       "2                                 Kerarapon, Nairobi   \n",
       "3  Close to UN and Rosslyn Academy., Gigiri, Nairobi   \n",
       "4                              Karen, Karen, Nairobi   \n",
       "\n",
       "                                    size            value  \n",
       "0      4 Bedroom House for sale in Karen   KSh 78 000 000  \n",
       "1      4 Bedroom House for sale in Runda  KSh 120 000 000  \n",
       "2  4 Bedroom House for sale in Kerarapon   KSh 35 000 000  \n",
       "3     4 Bedroom House for sale in Gigiri   KSh 80 000 000  \n",
       "4      5 Bedroom House for sale in Karen   KSh 80 000 000  "
      ]
     },
     "execution_count": 11,
     "metadata": {},
     "output_type": "execute_result"
    }
   ],
   "source": [
    "df.head()"
   ]
  },
  {
   "cell_type": "code",
   "execution_count": 12,
   "metadata": {},
   "outputs": [
    {
     "data": {
      "text/plain": [
       "1377"
      ]
     },
     "execution_count": 12,
     "metadata": {},
     "output_type": "execute_result"
    }
   ],
   "source": [
    "len(df)"
   ]
  },
  {
   "cell_type": "markdown",
   "metadata": {
    "collapsed": true
   },
   "source": [
    "## EDA"
   ]
  },
  {
   "cell_type": "code",
   "execution_count": 3,
   "metadata": {},
   "outputs": [
    {
     "name": "stdout",
     "output_type": "stream",
     "text": [
      "https://www.property24.co.ke/houses-for-sale-in-nairobi-c1890?Page=1\n",
      "https://www.property24.co.ke/houses-for-sale-in-nairobi-c1890?Page=2\n",
      "https://www.property24.co.ke/houses-for-sale-in-nairobi-c1890?Page=3\n",
      "https://www.property24.co.ke/houses-for-sale-in-nairobi-c1890?Page=4\n",
      "https://www.property24.co.ke/houses-for-sale-in-nairobi-c1890?Page=5\n",
      "https://www.property24.co.ke/houses-for-sale-in-nairobi-c1890?Page=6\n",
      "https://www.property24.co.ke/houses-for-sale-in-nairobi-c1890?Page=7\n",
      "https://www.property24.co.ke/houses-for-sale-in-nairobi-c1890?Page=8\n",
      "https://www.property24.co.ke/houses-for-sale-in-nairobi-c1890?Page=9\n",
      "https://www.property24.co.ke/houses-for-sale-in-nairobi-c1890?Page=10\n",
      "https://www.property24.co.ke/houses-for-sale-in-nairobi-c1890?Page=11\n",
      "https://www.property24.co.ke/houses-for-sale-in-nairobi-c1890?Page=12\n",
      "https://www.property24.co.ke/houses-for-sale-in-nairobi-c1890?Page=13\n",
      "https://www.property24.co.ke/houses-for-sale-in-nairobi-c1890?Page=14\n",
      "https://www.property24.co.ke/houses-for-sale-in-nairobi-c1890?Page=15\n",
      "https://www.property24.co.ke/houses-for-sale-in-nairobi-c1890?Page=16\n",
      "https://www.property24.co.ke/houses-for-sale-in-nairobi-c1890?Page=17\n",
      "https://www.property24.co.ke/houses-for-sale-in-nairobi-c1890?Page=18\n",
      "https://www.property24.co.ke/houses-for-sale-in-nairobi-c1890?Page=19\n",
      "https://www.property24.co.ke/houses-for-sale-in-nairobi-c1890?Page=20\n",
      "https://www.property24.co.ke/houses-for-sale-in-nairobi-c1890?Page=21\n",
      "https://www.property24.co.ke/houses-for-sale-in-nairobi-c1890?Page=22\n",
      "https://www.property24.co.ke/houses-for-sale-in-nairobi-c1890?Page=23\n",
      "https://www.property24.co.ke/houses-for-sale-in-nairobi-c1890?Page=24\n",
      "https://www.property24.co.ke/houses-for-sale-in-nairobi-c1890?Page=25\n",
      "https://www.property24.co.ke/houses-for-sale-in-nairobi-c1890?Page=26\n",
      "https://www.property24.co.ke/houses-for-sale-in-nairobi-c1890?Page=27\n",
      "https://www.property24.co.ke/houses-for-sale-in-nairobi-c1890?Page=28\n",
      "https://www.property24.co.ke/houses-for-sale-in-nairobi-c1890?Page=29\n",
      "https://www.property24.co.ke/houses-for-sale-in-nairobi-c1890?Page=30\n",
      "https://www.property24.co.ke/houses-for-sale-in-nairobi-c1890?Page=31\n",
      "https://www.property24.co.ke/houses-for-sale-in-nairobi-c1890?Page=32\n",
      "https://www.property24.co.ke/houses-for-sale-in-nairobi-c1890?Page=33\n",
      "https://www.property24.co.ke/houses-for-sale-in-nairobi-c1890?Page=34\n",
      "https://www.property24.co.ke/houses-for-sale-in-nairobi-c1890?Page=35\n",
      "https://www.property24.co.ke/houses-for-sale-in-nairobi-c1890?Page=36\n",
      "https://www.property24.co.ke/houses-for-sale-in-nairobi-c1890?Page=37\n",
      "https://www.property24.co.ke/houses-for-sale-in-nairobi-c1890?Page=38\n",
      "https://www.property24.co.ke/houses-for-sale-in-nairobi-c1890?Page=39\n",
      "https://www.property24.co.ke/houses-for-sale-in-nairobi-c1890?Page=40\n",
      "https://www.property24.co.ke/houses-for-sale-in-nairobi-c1890?Page=41\n",
      "https://www.property24.co.ke/houses-for-sale-in-nairobi-c1890?Page=42\n",
      "https://www.property24.co.ke/houses-for-sale-in-nairobi-c1890?Page=43\n",
      "https://www.property24.co.ke/houses-for-sale-in-nairobi-c1890?Page=44\n",
      "https://www.property24.co.ke/houses-for-sale-in-nairobi-c1890?Page=45\n",
      "https://www.property24.co.ke/houses-for-sale-in-nairobi-c1890?Page=46\n",
      "https://www.property24.co.ke/houses-for-sale-in-nairobi-c1890?Page=47\n",
      "https://www.property24.co.ke/houses-for-sale-in-nairobi-c1890?Page=48\n",
      "https://www.property24.co.ke/houses-for-sale-in-nairobi-c1890?Page=49\n",
      "https://www.property24.co.ke/houses-for-sale-in-nairobi-c1890?Page=50\n",
      "https://www.property24.co.ke/houses-for-sale-in-nairobi-c1890?Page=51\n",
      "https://www.property24.co.ke/houses-for-sale-in-nairobi-c1890?Page=52\n",
      "https://www.property24.co.ke/houses-for-sale-in-nairobi-c1890?Page=53\n",
      "https://www.property24.co.ke/houses-for-sale-in-nairobi-c1890?Page=54\n",
      "https://www.property24.co.ke/houses-for-sale-in-nairobi-c1890?Page=55\n",
      "https://www.property24.co.ke/houses-for-sale-in-nairobi-c1890?Page=56\n",
      "https://www.property24.co.ke/houses-for-sale-in-nairobi-c1890?Page=57\n",
      "https://www.property24.co.ke/houses-for-sale-in-nairobi-c1890?Page=58\n",
      "https://www.property24.co.ke/houses-for-sale-in-nairobi-c1890?Page=59\n",
      "https://www.property24.co.ke/houses-for-sale-in-nairobi-c1890?Page=60\n",
      "https://www.property24.co.ke/houses-for-sale-in-nairobi-c1890?Page=61\n",
      "https://www.property24.co.ke/houses-for-sale-in-nairobi-c1890?Page=62\n",
      "https://www.property24.co.ke/houses-for-sale-in-nairobi-c1890?Page=63\n",
      "https://www.property24.co.ke/houses-for-sale-in-nairobi-c1890?Page=64\n",
      "https://www.property24.co.ke/houses-for-sale-in-nairobi-c1890?Page=65\n",
      "https://www.property24.co.ke/houses-for-sale-in-nairobi-c1890?Page=66\n"
     ]
    }
   ],
   "source": [
    "base_url = \"https://www.property24.co.ke/houses-for-sale-in-nairobi-c1890?Page=\"\n",
    "data = []\n",
    "#   crawl though available pages to extract page no. links\n",
    "for page in range(1,67,1): #66 is the last page\n",
    "    prop_page = base_url+str(page) #+str(\"&size=30\")\n",
    "    print(prop_page)"
   ]
  },
  {
   "cell_type": "code",
   "execution_count": null,
   "metadata": {
    "collapsed": true
   },
   "outputs": [],
   "source": []
  }
 ],
 "metadata": {
  "kernelspec": {
   "display_name": "Python 3",
   "language": "python",
   "name": "python3"
  },
  "language_info": {
   "codemirror_mode": {
    "name": "ipython",
    "version": 3
   },
   "file_extension": ".py",
   "mimetype": "text/x-python",
   "name": "python",
   "nbconvert_exporter": "python",
   "pygments_lexer": "ipython3",
   "version": "3.6.3"
  }
 },
 "nbformat": 4,
 "nbformat_minor": 2
}
