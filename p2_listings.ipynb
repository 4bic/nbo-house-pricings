{
 "cells": [
  {
   "cell_type": "markdown",
   "metadata": {},
   "source": [
    "#  Property_2 listings "
   ]
  },
  {
   "cell_type": "code",
   "execution_count": 3,
   "metadata": {
    "collapsed": true
   },
   "outputs": [],
   "source": [
    "%matplotlib inline\n",
    "import requests\n",
    "from bs4 import BeautifulSoup\n",
    "import pandas as pd"
   ]
  },
  {
   "cell_type": "markdown",
   "metadata": {},
   "source": [
    "#### Access For sale in NBO webpage "
   ]
  },
  {
   "cell_type": "code",
   "execution_count": 2,
   "metadata": {},
   "outputs": [
    {
     "data": {
      "text/plain": [
       "21"
      ]
     },
     "execution_count": 2,
     "metadata": {},
     "output_type": "execute_result"
    }
   ],
   "source": [
    "r = requests.get(\"https://www.property24.co.ke/houses-for-sale-in-nairobi-c1890\")\n",
    "c = r.content\n",
    "soup = BeautifulSoup(c, \"html.parser\")\n",
    "# check source code of loaded page\n",
    "# print(soup.prettify())\n",
    "\n",
    "# # extract division\n",
    "all = soup.find_all(\"div\",{\"class\":\"sc_listingTile\"})\n",
    "len(all)"
   ]
  },
  {
   "cell_type": "markdown",
   "metadata": {},
   "source": [
    "#### check element "
   ]
  },
  {
   "cell_type": "code",
   "execution_count": 3,
   "metadata": {},
   "outputs": [
    {
     "data": {
      "text/plain": [
       "'KSh 85\\xa0000\\xa0000'"
      ]
     },
     "execution_count": 3,
     "metadata": {},
     "output_type": "execute_result"
    }
   ],
   "source": [
    "price = all[0].find(\"div\",{\"class\":\"sc_listingTilePrice\"}).text.strip()\n",
    "\n",
    "price\n"
   ]
  },
  {
   "cell_type": "code",
   "execution_count": 4,
   "metadata": {
    "scrolled": false
   },
   "outputs": [
    {
     "data": {
      "text/plain": [
       "'Located along Getathuru road off Lower kabete In a gated community Seating on almost half an acre land Spacious lounge with a...'"
      ]
     },
     "execution_count": 4,
     "metadata": {},
     "output_type": "execute_result"
    }
   ],
   "source": [
    "desc = all[4].find(\"div\",{\"class\":\"sc_listingTileTeaser\"}).text.strip()\n",
    "desc"
   ]
  },
  {
   "cell_type": "code",
   "execution_count": 5,
   "metadata": {},
   "outputs": [
    {
     "data": {
      "text/plain": [
       "'\\r\\n                Shinyaru Road, Loresho Central, Loresho, Nairobi\\r\\n            '"
      ]
     },
     "execution_count": 5,
     "metadata": {},
     "output_type": "execute_result"
    }
   ],
   "source": [
    "location = all[0].find('div',{'class':'sc_listingTileAddress'}).text\n",
    "location"
   ]
  },
  {
   "cell_type": "code",
   "execution_count": 6,
   "metadata": {},
   "outputs": [
    {
     "data": {
      "text/plain": [
       "'\\r\\n                5 Bedroom House for sale in Loresho\\r\\n            '"
      ]
     },
     "execution_count": 6,
     "metadata": {},
     "output_type": "execute_result"
    }
   ],
   "source": [
    "size = all[0].find('div',{'class':'sc_listingTileArea'}).text\n",
    "size"
   ]
  },
  {
   "cell_type": "markdown",
   "metadata": {},
   "source": [
    "## Data Collection \n",
    "\n",
    "        - Crawl web pages \n",
    "        - Extract selected elements \n",
    "        - Colect dict and store in a csv"
   ]
  },
  {
   "cell_type": "code",
   "execution_count": 8,
   "metadata": {
    "collapsed": true
   },
   "outputs": [],
   "source": [
    "base_url = \"https://www.property24.co.ke/houses-for-sale-in-nairobi-c1890?Page=\"\n",
    "data = []\n",
    "#   crawl though available pages to extract page no. links\n",
    "for page in range(1,67,1): #66 is the last page\n",
    "    prop_page = base_url+str(page) #+str(\"&size=30\")\n",
    "    r = requests.get(prop_page)\n",
    "    c = r.content\n",
    "    soup = BeautifulSoup(c, \"html.parser\")\n",
    "    all = soup.find_all(\"div\",{\"class\":\"sc_listingTile\"})\n",
    "    # collect price, detail and size from each page\n",
    "    for item in all:\n",
    "        d={}\n",
    "    #  property value\n",
    "        d[\"value\"] = item.find(\"div\",{\"class\":\"sc_listingTilePrice\"}).text.strip()\n",
    "    #   property description \n",
    "        d[\"desc\"] = item.find(\"div\",{\"class\":\"sc_listingTileTeaser\"}).text.strip()\n",
    "    #   property size / bedroom capacity\n",
    "        try:\n",
    "             d[\"size\"] = item.find('div',{'class':'sc_listingTileArea'}).text.strip()\n",
    "        except:\n",
    "            d[\"size\"] = None\n",
    "    #   property address\n",
    "        d[\"location\"] = item.find('div',{'class':'sc_listingTileAddress'}).text.strip()\n",
    "    \n",
    "    #   collect data in a list\n",
    "        data.append(d)\n",
    "        \n",
    "    #   store data in a dataframe\n",
    "        df2 = pd.DataFrame(data)\n",
    "    #   save to csv\n",
    "        df2.to_csv(\"scrapped_data/prop_2.csv\")"
   ]
  },
  {
   "cell_type": "code",
   "execution_count": null,
   "metadata": {
    "collapsed": true
   },
   "outputs": [],
   "source": [
    "df2.head()"
   ]
  },
  {
   "cell_type": "code",
   "execution_count": null,
   "metadata": {
    "collapsed": true
   },
   "outputs": [],
   "source": [
    "len(df2)"
   ]
  },
  {
   "cell_type": "code",
   "execution_count": null,
   "metadata": {
    "collapsed": true
   },
   "outputs": [],
   "source": [
    "import matplotlib.pyplot as plt\n",
    "import seaborn as sns"
   ]
  },
  {
   "cell_type": "markdown",
   "metadata": {
    "collapsed": true
   },
   "source": [
    "sns.heatmap(df2.isnull(),yticklabels=False,cbar=False,cmap='viridis')"
   ]
  },
  {
   "cell_type": "markdown",
   "metadata": {
    "collapsed": true
   },
   "source": [
    "## EDA"
   ]
  },
  {
   "cell_type": "code",
   "execution_count": null,
   "metadata": {
    "collapsed": true
   },
   "outputs": [],
   "source": [
    "base_url = \"https://www.property24.co.ke/houses-for-sale-in-nairobi-c1890?Page=\"\n",
    "data = []\n",
    "#   crawl though available pages to extract page no. links\n",
    "for page in range(1,67,1): #66 is the last page\n",
    "    prop_page = base_url+str(page) #+str(\"&size=30\")\n",
    "    print(prop_page)"
   ]
  },
  {
   "cell_type": "markdown",
   "metadata": {
    "collapsed": true
   },
   "source": [
    "## Clean Up"
   ]
  },
  {
   "cell_type": "code",
   "execution_count": 4,
   "metadata": {
    "scrolled": true
   },
   "outputs": [
    {
     "data": {
      "text/html": [
       "<div>\n",
       "<style>\n",
       "    .dataframe thead tr:only-child th {\n",
       "        text-align: right;\n",
       "    }\n",
       "\n",
       "    .dataframe thead th {\n",
       "        text-align: left;\n",
       "    }\n",
       "\n",
       "    .dataframe tbody tr th {\n",
       "        vertical-align: top;\n",
       "    }\n",
       "</style>\n",
       "<table border=\"1\" class=\"dataframe\">\n",
       "  <thead>\n",
       "    <tr style=\"text-align: right;\">\n",
       "      <th></th>\n",
       "      <th>desc</th>\n",
       "      <th>location</th>\n",
       "      <th>size</th>\n",
       "      <th>value</th>\n",
       "    </tr>\n",
       "  </thead>\n",
       "  <tbody>\n",
       "    <tr>\n",
       "      <th>0</th>\n",
       "      <td>This is an old but Beautiful 5 Bed Room Reside...</td>\n",
       "      <td>Shinyaru Road, Loresho Central, Loresho, Nairobi</td>\n",
       "      <td>5 Bedroom House for sale in Loresho</td>\n",
       "      <td>KSh 85 000 000</td>\n",
       "    </tr>\n",
       "    <tr>\n",
       "      <th>1</th>\n",
       "      <td>Magnificent. full of beauty</td>\n",
       "      <td>Runda, Nairobi</td>\n",
       "      <td>5 Bedroom House for sale in Runda</td>\n",
       "      <td>KSh 28 950 000</td>\n",
       "    </tr>\n",
       "    <tr>\n",
       "      <th>2</th>\n",
       "      <td>Sitting on half an acre lot lies this iconic 4...</td>\n",
       "      <td>Karen, Nairobi</td>\n",
       "      <td>4 Bedroom House for sale in Karen</td>\n",
       "      <td>KSh 75 000 000</td>\n",
       "    </tr>\n",
       "    <tr>\n",
       "      <th>3</th>\n",
       "      <td>a cosy five bedroom all en suite standalone bu...</td>\n",
       "      <td>Karen, Nairobi</td>\n",
       "      <td>5 Bedroom House for sale in Karen</td>\n",
       "      <td>KSh 55 000 000</td>\n",
       "    </tr>\n",
       "    <tr>\n",
       "      <th>4</th>\n",
       "      <td>Located along Getathuru road off Lower kabete ...</td>\n",
       "      <td>OFF LOWER KABETE, Westlands, Nairobi</td>\n",
       "      <td>5 Bedroom House for sale in Westlands</td>\n",
       "      <td>KSh 110 000 000</td>\n",
       "    </tr>\n",
       "  </tbody>\n",
       "</table>\n",
       "</div>"
      ],
      "text/plain": [
       "                                                desc  \\\n",
       "0  This is an old but Beautiful 5 Bed Room Reside...   \n",
       "1                        Magnificent. full of beauty   \n",
       "2  Sitting on half an acre lot lies this iconic 4...   \n",
       "3  a cosy five bedroom all en suite standalone bu...   \n",
       "4  Located along Getathuru road off Lower kabete ...   \n",
       "\n",
       "                                           location  \\\n",
       "0  Shinyaru Road, Loresho Central, Loresho, Nairobi   \n",
       "1                                    Runda, Nairobi   \n",
       "2                                    Karen, Nairobi   \n",
       "3                                    Karen, Nairobi   \n",
       "4              OFF LOWER KABETE, Westlands, Nairobi   \n",
       "\n",
       "                                    size            value  \n",
       "0    5 Bedroom House for sale in Loresho   KSh 85 000 000  \n",
       "1      5 Bedroom House for sale in Runda   KSh 28 950 000  \n",
       "2      4 Bedroom House for sale in Karen   KSh 75 000 000  \n",
       "3      5 Bedroom House for sale in Karen   KSh 55 000 000  \n",
       "4  5 Bedroom House for sale in Westlands  KSh 110 000 000  "
      ]
     },
     "execution_count": 4,
     "metadata": {},
     "output_type": "execute_result"
    }
   ],
   "source": [
    "df2 = pd.read_csv('scrapped_data/raw_unedited/p24_listing.csv',usecols=['desc', 'location', 'size', 'value'])\n",
    "df2.head()"
   ]
  },
  {
   "cell_type": "code",
   "execution_count": 6,
   "metadata": {},
   "outputs": [
    {
     "data": {
      "text/html": [
       "<div>\n",
       "<style>\n",
       "    .dataframe thead tr:only-child th {\n",
       "        text-align: right;\n",
       "    }\n",
       "\n",
       "    .dataframe thead th {\n",
       "        text-align: left;\n",
       "    }\n",
       "\n",
       "    .dataframe tbody tr th {\n",
       "        vertical-align: top;\n",
       "    }\n",
       "</style>\n",
       "<table border=\"1\" class=\"dataframe\">\n",
       "  <thead>\n",
       "    <tr style=\"text-align: right;\">\n",
       "      <th></th>\n",
       "      <th>desc</th>\n",
       "      <th>location</th>\n",
       "      <th>size</th>\n",
       "      <th>value</th>\n",
       "    </tr>\n",
       "  </thead>\n",
       "  <tbody>\n",
       "    <tr>\n",
       "      <th>0</th>\n",
       "      <td>This is an old but Beautiful 5 Bed Room Reside...</td>\n",
       "      <td>Shinyaru Road, Loresho Central, Loresho, Nairobi</td>\n",
       "      <td>5</td>\n",
       "      <td>85 000 000</td>\n",
       "    </tr>\n",
       "    <tr>\n",
       "      <th>1</th>\n",
       "      <td>Magnificent. full of beauty</td>\n",
       "      <td>Runda, Nairobi</td>\n",
       "      <td>5</td>\n",
       "      <td>28 950 000</td>\n",
       "    </tr>\n",
       "    <tr>\n",
       "      <th>2</th>\n",
       "      <td>Sitting on half an acre lot lies this iconic 4...</td>\n",
       "      <td>Karen, Nairobi</td>\n",
       "      <td>4</td>\n",
       "      <td>75 000 000</td>\n",
       "    </tr>\n",
       "    <tr>\n",
       "      <th>3</th>\n",
       "      <td>a cosy five bedroom all en suite standalone bu...</td>\n",
       "      <td>Karen, Nairobi</td>\n",
       "      <td>5</td>\n",
       "      <td>55 000 000</td>\n",
       "    </tr>\n",
       "    <tr>\n",
       "      <th>4</th>\n",
       "      <td>Located along Getathuru road off Lower kabete ...</td>\n",
       "      <td>OFF LOWER KABETE, Westlands, Nairobi</td>\n",
       "      <td>5</td>\n",
       "      <td>110 000 000</td>\n",
       "    </tr>\n",
       "  </tbody>\n",
       "</table>\n",
       "</div>"
      ],
      "text/plain": [
       "                                                desc  \\\n",
       "0  This is an old but Beautiful 5 Bed Room Reside...   \n",
       "1                        Magnificent. full of beauty   \n",
       "2  Sitting on half an acre lot lies this iconic 4...   \n",
       "3  a cosy five bedroom all en suite standalone bu...   \n",
       "4  Located along Getathuru road off Lower kabete ...   \n",
       "\n",
       "                                           location size        value  \n",
       "0  Shinyaru Road, Loresho Central, Loresho, Nairobi    5   85 000 000  \n",
       "1                                    Runda, Nairobi    5   28 950 000  \n",
       "2                                    Karen, Nairobi    4   75 000 000  \n",
       "3                                    Karen, Nairobi    5   55 000 000  \n",
       "4              OFF LOWER KABETE, Westlands, Nairobi    5  110 000 000  "
      ]
     },
     "execution_count": 6,
     "metadata": {},
     "output_type": "execute_result"
    }
   ],
   "source": [
    "# Save value as Numeric in Ksh\n",
    "df2['value'] = df2['value'].str.replace(\"POA|KSh| \",\"\")\n",
    "\n",
    "# Size to no of Bedrooms\n",
    "df2['size'] = df2['size'].str.split(' ').str[0]\n",
    "\n",
    "df2.head()"
   ]
  },
  {
   "cell_type": "code",
   "execution_count": 13,
   "metadata": {
    "collapsed": true
   },
   "outputs": [],
   "source": [
    "df2.to_csv('scrapped_data/prop_2.csv')"
   ]
  }
 ],
 "metadata": {
  "kernelspec": {
   "display_name": "Python 3",
   "language": "python",
   "name": "python3"
  },
  "language_info": {
   "codemirror_mode": {
    "name": "ipython",
    "version": 3
   },
   "file_extension": ".py",
   "mimetype": "text/x-python",
   "name": "python",
   "nbconvert_exporter": "python",
   "pygments_lexer": "ipython3",
   "version": "3.6.3"
  }
 },
 "nbformat": 4,
 "nbformat_minor": 2
}
