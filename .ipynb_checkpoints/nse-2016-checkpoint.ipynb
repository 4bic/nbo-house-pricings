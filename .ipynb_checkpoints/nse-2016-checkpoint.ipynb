{
 "cells": [
  {
   "cell_type": "markdown",
   "metadata": {},
   "source": [
    "# Predicting shares price"
   ]
  },
  {
   "cell_type": "code",
   "execution_count": null,
   "metadata": {},
   "outputs": [],
   "source": [
    "import csv\n",
    "import numpy as np\n",
    "import pandas as pd\n",
    "from sklearn.svm import SVR\n",
    "import matplotlib.pyplot as plt \n",
    "\n",
    "%matplotlib inline\n",
    "dates = []\n",
    "prices = []\n",
    "\n",
    "# access the csv file \n",
    "def get_data(filename):\n",
    "    with open(filename, 'r') as csvfile:\n",
    "        csvFileReader = csv.reader(csvfile)\n",
    "        next(csvFileReader)\n",
    "        for row in csvFileReader:\n",
    "            dates.append(int(row[0].split('-')[0]))\n",
    "            prices.append(float(row[1]))\n",
    "    return \n",
    "\n",
    "def predict_prices(dates, prices, x):\n",
    "    dates = np.reshape(dates,(len(dates), 1))\n",
    "    \n",
    "    svr_lin = SVR(kernel = 'linear', C=1e3)\n",
    "    svr_poly = SVR(kernel = 'poly', C=1e3, degree =2)\n",
    "    svr_rbf = SVR(kernel = 'rbf', C=1e3, gamma=0.1)\n",
    "    \n",
    "    svr_lin.fit(dates, prices)\n",
    "    svr_poly.fit(dates, prices)\n",
    "    svr_rbf.fit(dates, prices)\n",
    "    \n",
    "    plt.scatter(dates, prices, color='black', label='Data')\n",
    "    plt.plt(dates, svr_rbf.predict(dates), color='red',label='RBF model')\n",
    "    plt.plt(dates, svr_lin.predict(dates), color='green',label='Linear model')\n",
    "    plt.plt(dates, svr_poly.predict(dates), color='blue',label='Polynonial model')\n",
    "\n",
    "    plt.xlabel('Date')\n",
    "    plt.ylabel('Price')\n",
    "    plt.title('Support Vector Regression')\n",
    "    plt.legend()\n",
    "    plt.show()\n",
    "    \n",
    "    return svr_rbf.predict(x)[0], svr_lin.predict(x)[0], svr_poly.predict(x)[0]\n",
    "\n",
    "get_data('predict stocks/adbe.csv')\n",
    "\n",
    "predicted_price = predict_prices(dates, prices, 29)\n",
    "if __name__= main()\n",
    "    print(predicted_price)\n",
    "\n"
   ]
  },
  {
   "cell_type": "code",
   "execution_count": null,
   "metadata": {
    "collapsed": true
   },
   "outputs": [],
   "source": []
  },
  {
   "cell_type": "code",
   "execution_count": 11,
   "metadata": {
    "scrolled": true
   },
   "outputs": [
    {
     "data": {
      "text/html": [
       "<div>\n",
       "<style>\n",
       "    .dataframe thead tr:only-child th {\n",
       "        text-align: right;\n",
       "    }\n",
       "\n",
       "    .dataframe thead th {\n",
       "        text-align: left;\n",
       "    }\n",
       "\n",
       "    .dataframe tbody tr th {\n",
       "        vertical-align: top;\n",
       "    }\n",
       "</style>\n",
       "<table border=\"1\" class=\"dataframe\">\n",
       "  <thead>\n",
       "    <tr style=\"text-align: right;\">\n",
       "      <th></th>\n",
       "      <th>Date</th>\n",
       "      <th>Open</th>\n",
       "      <th>High</th>\n",
       "      <th>Low</th>\n",
       "      <th>Close</th>\n",
       "      <th>Volume</th>\n",
       "    </tr>\n",
       "  </thead>\n",
       "  <tbody>\n",
       "    <tr>\n",
       "      <th>0</th>\n",
       "      <td>2-Aug-12</td>\n",
       "      <td>30.46</td>\n",
       "      <td>30.83</td>\n",
       "      <td>30.25</td>\n",
       "      <td>30.58</td>\n",
       "      <td>2639980</td>\n",
       "    </tr>\n",
       "    <tr>\n",
       "      <th>1</th>\n",
       "      <td>1-Aug-12</td>\n",
       "      <td>31.05</td>\n",
       "      <td>31.17</td>\n",
       "      <td>30.64</td>\n",
       "      <td>30.69</td>\n",
       "      <td>2738740</td>\n",
       "    </tr>\n",
       "    <tr>\n",
       "      <th>2</th>\n",
       "      <td>31-Jul-12</td>\n",
       "      <td>30.99</td>\n",
       "      <td>31.27</td>\n",
       "      <td>30.84</td>\n",
       "      <td>30.88</td>\n",
       "      <td>2662853</td>\n",
       "    </tr>\n",
       "    <tr>\n",
       "      <th>3</th>\n",
       "      <td>30-Jul-12</td>\n",
       "      <td>31.89</td>\n",
       "      <td>31.95</td>\n",
       "      <td>30.92</td>\n",
       "      <td>31.01</td>\n",
       "      <td>4261193</td>\n",
       "    </tr>\n",
       "    <tr>\n",
       "      <th>4</th>\n",
       "      <td>27-Jul-12</td>\n",
       "      <td>31.26</td>\n",
       "      <td>32.00</td>\n",
       "      <td>31.17</td>\n",
       "      <td>31.90</td>\n",
       "      <td>3312890</td>\n",
       "    </tr>\n",
       "  </tbody>\n",
       "</table>\n",
       "</div>"
      ],
      "text/plain": [
       "        Date   Open   High    Low  Close   Volume\n",
       "0   2-Aug-12  30.46  30.83  30.25  30.58  2639980\n",
       "1   1-Aug-12  31.05  31.17  30.64  30.69  2738740\n",
       "2  31-Jul-12  30.99  31.27  30.84  30.88  2662853\n",
       "3  30-Jul-12  31.89  31.95  30.92  31.01  4261193\n",
       "4  27-Jul-12  31.26  32.00  31.17  31.90  3312890"
      ]
     },
     "execution_count": 11,
     "metadata": {},
     "output_type": "execute_result"
    }
   ],
   "source": [
    "import pandas as pd\n",
    "\n",
    "data = pd.read_csv('predict stocks/adbe.csv')\n",
    "data.head()"
   ]
  },
  {
   "cell_type": "code",
   "execution_count": null,
   "metadata": {
    "collapsed": true
   },
   "outputs": [],
   "source": []
  }
 ],
 "metadata": {
  "kernelspec": {
   "display_name": "Python 3",
   "language": "python",
   "name": "python3"
  },
  "language_info": {
   "codemirror_mode": {
    "name": "ipython",
    "version": 3
   },
   "file_extension": ".py",
   "mimetype": "text/x-python",
   "name": "python",
   "nbconvert_exporter": "python",
   "pygments_lexer": "ipython3",
   "version": "3.6.3"
  }
 },
 "nbformat": 4,
 "nbformat_minor": 2
}
